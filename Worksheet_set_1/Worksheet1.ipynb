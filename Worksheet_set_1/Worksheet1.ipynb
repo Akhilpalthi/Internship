{
 "cells": [
  {
   "cell_type": "markdown",
   "id": "2eb4e611",
   "metadata": {},
   "source": [
    "# 11. Program to find the factorial of a number"
   ]
  },
  {
   "cell_type": "code",
   "execution_count": 1,
   "id": "9606ac01",
   "metadata": {},
   "outputs": [
    {
     "name": "stdout",
     "output_type": "stream",
     "text": [
      "Enter the number6\n",
      "Factorial of 6 is 720\n"
     ]
    }
   ],
   "source": [
    "num=int(input('Enter the number'))\n",
    "def factorial(n):\n",
    "    if n<0:\n",
    "        return \"- n is Non Positive integer\"\n",
    "    elif n==1 or n==0:\n",
    "        return 1\n",
    "    else:\n",
    "        fact =1\n",
    "        while(n>1):\n",
    "            fact=fact*n\n",
    "            n=(n-1)\n",
    "        return fact\n",
    "print(\"Factorial of\",num,\"is\",factorial(num))\n"
   ]
  },
  {
   "cell_type": "markdown",
   "id": "eaa496d6",
   "metadata": {},
   "source": [
    "# 12. Program to find whether a number is prime or composite.\n"
   ]
  },
  {
   "cell_type": "code",
   "execution_count": 2,
   "id": "1b7c2ad3",
   "metadata": {},
   "outputs": [
    {
     "name": "stdout",
     "output_type": "stream",
     "text": [
      "Enter the number6\n",
      "6  is a composite number\n"
     ]
    }
   ],
   "source": [
    "num=int(input('Enter the number'))\n",
    "\n",
    "if num >1:\n",
    "    for i in range(2,num):\n",
    "        if (num%i) ==0:\n",
    "            print(num,\" is a composite number\")\n",
    "            break\n",
    "    else:\n",
    "        print(num,\" is a prime number\")\n",
    "else:\n",
    "    print(\"please enter a positive inter greater than 1\")\n"
   ]
  },
  {
   "cell_type": "markdown",
   "id": "46627323",
   "metadata": {},
   "source": [
    "# 13. Program to check whether a given string is palindrome or not"
   ]
  },
  {
   "cell_type": "code",
   "execution_count": 3,
   "id": "03f52673",
   "metadata": {},
   "outputs": [
    {
     "name": "stdout",
     "output_type": "stream",
     "text": [
      "Enter the Stringyes\n",
      "No, Given word is not palindrome\n"
     ]
    }
   ],
   "source": [
    "word=str(input('Enter the String'))\n",
    "\n",
    "if word == word[::-1]:\n",
    "    print(\"Yes, given word is palindrome\")\n",
    "else:\n",
    "    print(\"No, Given word is not palindrome\")\n"
   ]
  },
  {
   "cell_type": "markdown",
   "id": "d2954b0b",
   "metadata": {},
   "source": [
    "# 14. Program to get the third side of right-angled triangle from two given sides"
   ]
  },
  {
   "cell_type": "code",
   "execution_count": 4,
   "id": "4ac000a0",
   "metadata": {},
   "outputs": [
    {
     "name": "stdout",
     "output_type": "stream",
     "text": [
      "Enter the Side 1 dimension 3\n",
      "Enter the Side 2 dimension 4\n",
      "dimension of Side 3 is [5.0]\n"
     ]
    }
   ],
   "source": [
    "from math import sqrt\n",
    "side1=float(input(\"Enter the Side 1 dimension \"))\n",
    "side2=float(input(\"Enter the Side 2 dimension \"))\n",
    "side3=[sqrt(side1**2+side2**2)]\n",
    "print(\"dimension of Side 3 is\",side3)"
   ]
  },
  {
   "cell_type": "markdown",
   "id": "35fce95f",
   "metadata": {},
   "source": [
    "# 15. Program to print the frequency of each of the characters present in a given string"
   ]
  },
  {
   "cell_type": "code",
   "execution_count": 5,
   "id": "d2e5ba5b",
   "metadata": {},
   "outputs": [
    {
     "name": "stdout",
     "output_type": "stream",
     "text": [
      "Enter the String Data trained\n",
      "Count of all characters in  Data trained  is:  {'D': 1, 'a': 3, 't': 2, ' ': 1, 'r': 1, 'i': 1, 'n': 1, 'e': 1, 'd': 1}\n"
     ]
    }
   ],
   "source": [
    "word=str(input('Enter the String '))\n",
    "\n",
    "freq = {}\n",
    "\n",
    "for i in word:\n",
    "    if i in freq:\n",
    "        freq[i] += 1\n",
    "    else:\n",
    "        freq[i] = 1\n",
    "\n",
    "\n",
    "print (\"Count of all characters in \",word,\" is: \",str(freq))\n"
   ]
  },
  {
   "cell_type": "code",
   "execution_count": null,
   "id": "667bff92",
   "metadata": {},
   "outputs": [],
   "source": []
  }
 ],
 "metadata": {
  "kernelspec": {
   "display_name": "Python 3",
   "language": "python",
   "name": "python3"
  },
  "language_info": {
   "codemirror_mode": {
    "name": "ipython",
    "version": 3
   },
   "file_extension": ".py",
   "mimetype": "text/x-python",
   "name": "python",
   "nbconvert_exporter": "python",
   "pygments_lexer": "ipython3",
   "version": "3.8.8"
  }
 },
 "nbformat": 4,
 "nbformat_minor": 5
}
